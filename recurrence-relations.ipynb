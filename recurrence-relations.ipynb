{
 "cells": [
  {
   "cell_type": "code",
   "execution_count": 33,
   "metadata": {},
   "outputs": [],
   "source": [
    "import sympy as sym\n",
    "import re \n",
    "from sympy.parsing.latex import parse_latex "
   ]
  },
  {
   "cell_type": "code",
   "execution_count": 119,
   "metadata": {},
   "outputs": [],
   "source": [
    "def t(fk):\n",
    "    return re.sub(r\"P\\((.*?),(.*?)\\)\",r\"(1/(2(\\1)+1))((\\1-\\2+1)P(\\1+1,\\2) + (\\1+\\2)P(\\1-1,\\2))\",fk)"
   ]
  },
  {
   "cell_type": "code",
   "execution_count": 120,
   "metadata": {},
   "outputs": [],
   "source": [
    "def ts(fk):\n",
    "    return re.sub(r\"P\\((.*?),(.*?)\\)\",r\"(1/(2(\\1)+1))(P(\\1-1,\\2+1)-P(\\1+1,\\2+1))\",fk)"
   ]
  },
  {
   "cell_type": "code",
   "execution_count": 121,
   "metadata": {},
   "outputs": [],
   "source": [
    "def simpler(eks):\n",
    "    l,m = sym.symbols(\"l m\")\n",
    "    return sym.simplify((sym.simplify(parse_latex(eks))))"
   ]
  },
  {
   "cell_type": "code",
   "execution_count": 145,
   "metadata": {},
   "outputs": [],
   "source": [
    "def fortran(ex):\n",
    "    ex1 = str(ex)\n",
    "    return re.sub(r\"P\",r\"I1\",ex1)"
   ]
  },
  {
   "cell_type": "code",
   "execution_count": 146,
   "metadata": {},
   "outputs": [
    {
     "data": {
      "text/plain": [
       "'(I1(l - 1, m + 1) - I1(l + 1, m + 1))/(2*l + 1)'"
      ]
     },
     "execution_count": 146,
     "metadata": {},
     "output_type": "execute_result"
    }
   ],
   "source": [
    "ts1= ts(\"P(l,m)\")\n",
    "fortran(simpler(ts1))"
   ]
  },
  {
   "cell_type": "code",
   "execution_count": 147,
   "metadata": {},
   "outputs": [
    {
     "data": {
      "text/plain": [
       "'-((2*l - 1)*(I1(l, m + 2) - I1(l + 2, m + 2)) + (2*l + 3)*(I1(l, m + 2) - I1(l - 2, m + 2)))/((2*l - 1)*(2*l + 1)*(2*l + 3))'"
      ]
     },
     "execution_count": 147,
     "metadata": {},
     "output_type": "execute_result"
    }
   ],
   "source": [
    "ts2 = ts(ts(\"P(l,m)\"))\n",
    "fortran(simpler(ts2))"
   ]
  },
  {
   "cell_type": "code",
   "execution_count": 148,
   "metadata": {},
   "outputs": [
    {
     "data": {
      "text/plain": [
       "'((l + m)*I1(l - 1, m) + (l - m + 1)*I1(l + 1, m))/(2*l + 1)'"
      ]
     },
     "execution_count": 148,
     "metadata": {},
     "output_type": "execute_result"
    }
   ],
   "source": [
    "t1 = t(\"P(l,m)\")\n",
    "fortran(simpler(t1))"
   ]
  },
  {
   "cell_type": "code",
   "execution_count": 153,
   "metadata": {},
   "outputs": [
    {
     "data": {
      "text/plain": [
       "'((l + m)*(2*l + 3)*((l - m)*I1(l, m) + (l + m - 1)*I1(l - 2, m)) + (2*l - 1)*((l - m + 2)*I1(l + 2, m) + (l + m + 1)*I1(l, m))*(l - m + 1))/((2*l - 1)*(2*l + 1)*(2*l + 3))'"
      ]
     },
     "execution_count": 153,
     "metadata": {},
     "output_type": "execute_result"
    }
   ],
   "source": [
    "t2 = t(t(\"P(l,m)\"))\n",
    "fortran(simpler(t2))"
   ]
  },
  {
   "cell_type": "code",
   "execution_count": 149,
   "metadata": {},
   "outputs": [
    {
     "data": {
      "text/plain": [
       "'(-(2*l - 1)*((l - m + 3)*I1(l + 2, m + 1) + (l + m + 2)*I1(l, m + 1)) + (2*l + 3)*((l + m)*I1(l - 2, m + 1) + (l - m + 1)*I1(l, m + 1)))/((2*l - 1)*(2*l + 1)*(2*l + 3))'"
      ]
     },
     "execution_count": 149,
     "metadata": {},
     "output_type": "execute_result"
    }
   ],
   "source": [
    "ts1t1 = t(ts(\"P(l,m)\"))\n",
    "fortran(simpler(ts1t1))"
   ]
  },
  {
   "cell_type": "code",
   "execution_count": 116,
   "metadata": {},
   "outputs": [
    {
     "data": {
      "text/plain": [
       "'((2*l - 3)*(2*l - 1)*((2*l + 1)*((l - m + 5)*I1(l + 3, m + 2) + (l + m + 4)*I1(l + 1, m + 2)) - (2*l + 5)*((l - m + 3)*I1(l + 1, m + 2) + (l + m + 2)*I1(l - 1, m + 2))) - (2*l + 3)*(2*l + 5)*((2*l - 3)*((l - m + 3)*I1(l + 1, m + 2) + (l + m + 2)*I1(l - 1, m + 2)) - (2*l + 1)*((l + m)*I1(l - 3, m + 2) + (l - m + 1)*I1(l - 1, m + 2))))/((2*l - 3)*(2*l - 1)*(2*l + 1)**2*(2*l + 3)*(2*l + 5))'"
      ]
     },
     "execution_count": 116,
     "metadata": {},
     "output_type": "execute_result"
    }
   ],
   "source": [
    "ts2t1 = t(ts(ts(\"P(l,m)\")))\n",
    "fortran(simpler(ts2t1))"
   ]
  },
  {
   "cell_type": "code",
   "execution_count": 150,
   "metadata": {},
   "outputs": [
    {
     "data": {
      "text/plain": [
       "'((2*l - 5)*(2*l - 3)*(2*l - 1)*((2*l - 1)*(2*l + 1)*((2*l + 3)*((l - m + 6)*I1(l + 4, m + 2) + (l + m + 5)*I1(l + 2, m + 2))*(l - m + 5) + (2*l + 7)*((l - m + 4)*I1(l + 2, m + 2) + (l + m + 3)*I1(l, m + 2))*(l + m + 4)) - (2*l + 5)*(2*l + 7)*((2*l - 1)*((l - m + 4)*I1(l + 2, m + 2) + (l + m + 3)*I1(l, m + 2))*(l - m + 3) + (2*l + 3)*((l - m + 2)*I1(l, m + 2) + (l + m + 1)*I1(l - 2, m + 2))*(l + m + 2))) - (2*l + 3)*(2*l + 5)*(2*l + 7)*((2*l - 5)*(2*l - 3)*((2*l - 1)*((l - m + 4)*I1(l + 2, m + 2) + (l + m + 3)*I1(l, m + 2))*(l - m + 3) + (2*l + 3)*((l - m + 2)*I1(l, m + 2) + (l + m + 1)*I1(l - 2, m + 2))*(l + m + 2)) - (2*l + 1)*(2*l + 3)*((l + m)*(2*l - 1)*((l - m)*I1(l - 2, m + 2) + (l + m - 1)*I1(l - 4, m + 2)) + (2*l - 5)*((l - m + 2)*I1(l, m + 2) + (l + m + 1)*I1(l - 2, m + 2))*(l - m + 1))))/((2*l - 5)*(2*l - 3)*(2*l - 1)**2*(2*l + 1)**2*(2*l + 3)**2*(2*l + 5)*(2*l + 7))'"
      ]
     },
     "execution_count": 150,
     "metadata": {},
     "output_type": "execute_result"
    }
   ],
   "source": [
    "ts2t2 = t(t(ts(ts(\"P(l,m)\"))))\n",
    "fortran(simpler(ts2t2))"
   ]
  },
  {
   "cell_type": "code",
   "execution_count": 151,
   "metadata": {},
   "outputs": [
    {
     "data": {
      "text/plain": [
       "'((l + m)*(2*l + 3)*(2*l + 5)*((l - m)*(2*l - 3)*(I1(l - 1, m + 1) - I1(l + 1, m + 1)) + (2*l + 1)*(I1(l - 3, m + 1) - I1(l - 1, m + 1))*(l + m - 1)) + (2*l - 3)*(2*l - 1)*((2*l + 1)*(I1(l + 1, m + 1) - I1(l + 3, m + 1))*(l - m + 2) + (2*l + 5)*(I1(l - 1, m + 1) - I1(l + 1, m + 1))*(l + m + 1))*(l - m + 1))/((2*l - 3)*(2*l - 1)*(2*l + 1)**2*(2*l + 3)*(2*l + 5))'"
      ]
     },
     "execution_count": 151,
     "metadata": {},
     "output_type": "execute_result"
    }
   ],
   "source": [
    "ts1t2 = ts(t(t(\"P(l,m)\")))\n",
    "fortran(simpler(ts1t2))"
   ]
  },
  {
   "cell_type": "code",
   "execution_count": 152,
   "metadata": {},
   "outputs": [
    {
     "data": {
      "text/plain": [
       "'(-(l + m)*(2*l + 3)*(I1(l, m + 1) - I1(l - 2, m + 1)) + (2*l - 1)*(I1(l, m + 1) - I1(l + 2, m + 1))*(l - m + 1))/((2*l - 1)*(2*l + 1)*(2*l + 3))'"
      ]
     },
     "execution_count": 152,
     "metadata": {},
     "output_type": "execute_result"
    }
   ],
   "source": [
    "ts1t1 = ts(t(\"P(l,m)\"))\n",
    "fortran(simpler(ts1t1))"
   ]
  },
  {
   "cell_type": "code",
   "execution_count": null,
   "metadata": {},
   "outputs": [],
   "source": []
  }
 ],
 "metadata": {
  "kernelspec": {
   "display_name": "Python 3",
   "language": "python",
   "name": "python3"
  },
  "language_info": {
   "codemirror_mode": {
    "name": "ipython",
    "version": 3
   },
   "file_extension": ".py",
   "mimetype": "text/x-python",
   "name": "python",
   "nbconvert_exporter": "python",
   "pygments_lexer": "ipython3",
   "version": "3.6.8"
  }
 },
 "nbformat": 4,
 "nbformat_minor": 2
}
